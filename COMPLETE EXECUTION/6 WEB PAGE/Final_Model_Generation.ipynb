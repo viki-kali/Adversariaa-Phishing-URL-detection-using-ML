{
 "cells": [
  {
   "cell_type": "markdown",
   "metadata": {},
   "source": [
    "IMPORTS"
   ]
  },
  {
   "cell_type": "code",
   "execution_count": 7,
   "metadata": {},
   "outputs": [],
   "source": [
    "import re\n",
    "import pickle\n",
    "import warnings\n",
    "import numpy as np\n",
    "import pandas as pd\n",
    "import seaborn as sns\n",
    "import matplotlib.pyplot as plt\n",
    "import xgboost as xgb\n",
    "from pydotplus import graph_from_dot_data\n",
    "from IPython.display import Image\n",
    "from sklearn import metrics\n",
    "from sklearn import tree\n",
    "from sklearn.model_selection import train_test_split\n",
    "from sklearn.model_selection import GridSearchCV\n",
    "from sklearn.model_selection import RepeatedStratifiedKFold\n",
    "from sklearn.model_selection import StratifiedKFold\n",
    "from sklearn.model_selection import RandomizedSearchCV\n",
    "from sklearn.ensemble import RandomForestClassifier\n",
    "from sklearn.ensemble import GradientBoostingClassifier\n",
    "from sklearn.ensemble import AdaBoostClassifier\n",
    "from sklearn.tree import export_graphviz\n",
    "from sklearn.tree import DecisionTreeClassifier\n",
    "from sklearn.metrics import roc_curve, auc\n",
    "from sklearn.metrics import accuracy_score, confusion_matrix, recall_score, precision_score,f1_score,fbeta_score,mean_squared_error\n",
    "from sklearn.metrics import accuracy_score, confusion_matrix, recall_score, precision_score,f1_score,fbeta_score,classification_report\n",
    "from sklearn.linear_model import LogisticRegression"
   ]
  },
  {
   "cell_type": "markdown",
   "metadata": {},
   "source": [
    "IMPORT DATASETS"
   ]
  },
  {
   "cell_type": "code",
   "execution_count": 8,
   "metadata": {},
   "outputs": [],
   "source": [
    "df1=pd.read_csv(r'E:\\Project\\1-Output\\4 DATASETS WITH BEST 25 FEATURES\\Best_25_Features_Dataset-1.csv')\n",
    "df2=pd.read_csv(r'E:\\Project\\1-Output\\4 DATASETS WITH BEST 25 FEATURES\\Best_25_Features_Dataset-1.csv')\n",
    "df3=pd.read_csv(r'E:\\Project\\1-Output\\4 DATASETS WITH BEST 25 FEATURES\\Best_25_Features_Dataset-1.csv')\n",
    "df4=pd.read_csv(r'E:\\Project\\1-Output\\4 DATASETS WITH BEST 25 FEATURES\\Best_25_Features_Dataset-1.csv')\n",
    "df5=pd.read_csv(r'E:\\Project\\1-Output\\4 DATASETS WITH BEST 25 FEATURES\\Best_25_Features_Dataset-1.csv')\n",
    "df6=pd.read_csv(r'E:\\Project\\1-Output\\4 DATASETS WITH BEST 25 FEATURES\\Best_25_Features_Dataset-1.csv')"
   ]
  },
  {
   "cell_type": "code",
   "execution_count": 9,
   "metadata": {},
   "outputs": [],
   "source": [
    "df1_500=df1.head(500)\n",
    "df2_500=df2.head(500)\n",
    "df3_500=df3.head(500)\n",
    "df4_500=df4.head(500)\n",
    "df5_500=df4.head(500)\n",
    "df6_500=df6.head(500)\n",
    "\n",
    "df1_last_500=df1.tail(500)\n",
    "df2_last_500=df2.tail(500)\n",
    "df3_last_500=df3.tail(500)\n",
    "df4_last_500=df4.tail(500)\n",
    "df5_last_500=df4.tail(500)\n",
    "df6_last_500=df6.tail(500)"
   ]
  },
  {
   "cell_type": "code",
   "execution_count": 14,
   "metadata": {},
   "outputs": [],
   "source": [
    "g1 = pd.concat([df1_500, df2_500,df3_500,df4_500,df5_500,df6_500], axis=0)\n",
    "g1.reset_index(drop=True, inplace=True)\n",
    "\n",
    "g2 = pd.concat([df1_last_500, df2_last_500,df3_last_500,df4_last_500,df5_last_500,df6_last_500], axis=0)\n",
    "g2.reset_index(drop=True, inplace=True)\n",
    "\n",
    "res=pd.concat([g1,g2],axis=0)\n",
    "res.reset_index(drop=True,inplace=True)\n",
    "\n",
    "res.to_csv(\"6000 Best Features.csv\",index=False)"
   ]
  },
  {
   "cell_type": "code",
   "execution_count": 11,
   "metadata": {},
   "outputs": [],
   "source": [
    "X = res.loc[:,res.columns!=\"Label\"]\n",
    "y = res[\"Label\"]"
   ]
  },
  {
   "cell_type": "markdown",
   "metadata": {},
   "source": [
    "RANDOM FOREST"
   ]
  },
  {
   "cell_type": "code",
   "execution_count": null,
   "metadata": {},
   "outputs": [],
   "source": [
    "rf_clf = RandomForestClassifier (random_state = 42)\n",
    "\n",
    "params_grid = {\n",
    "              'max_depth': [5, 10, 15],\n",
    "               'max_features': [4,6,7],\n",
    "               'min_samples_leaf': [4,7,10],\n",
    "               'min_samples_split': [5,7,8],\n",
    "               'n_estimators' : [10,50,100]\n",
    "               }\n",
    "\n",
    "cv = RepeatedStratifiedKFold(n_splits=5, n_repeats=2, random_state=42)\n",
    "grid_search = GridSearchCV(estimator = rf_clf, param_grid = params_grid ,n_jobs = -1, cv = cv, scoring = 'accuracy')\n",
    "grid_result = grid_search.fit(X, y)\n",
    "print(\"Best: %f using %s\" % (grid_result.best_score_, grid_result.best_params_))\n",
    "print(grid_search.best_estimator_)\n",
    "\n",
    "gbc_clf2 = RandomForestClassifier(max_depth = grid_result.best_params_.get('max_depth'),\n",
    "                     max_features = grid_result.best_params_.get('max_features'),\n",
    "                     min_samples_leaf = grid_result.best_params_.get('min_samples_leaf'),\n",
    "                     min_samples_split = grid_result.best_params_.get('min_samples_split'),\n",
    "                     n_estimators=grid_result.best_params_.get('n_estimators'),\n",
    "                     random_state=42)\n",
    "\n",
    "gbc_clf2.fit(X, y)\n",
    "\n",
    "with open('model_pickle_full_with_best_25','wb') as f:\n",
    "    pickle.dump(gbc_clf2,f)"
   ]
  },
  {
   "cell_type": "markdown",
   "metadata": {},
   "source": [
    "Best: 0.886417 using {'max_depth': 15, 'max_features': 7, 'min_samples_leaf': 4, 'min_samples_split': 5, 'n_estimators': 100}\n",
    "RandomForestClassifier(max_depth=15, max_features=7, min_samples_leaf=4,\n",
    "                       min_samples_split=5, random_state=42)"
   ]
  }
 ],
 "metadata": {
  "kernelspec": {
   "display_name": "Python 3",
   "language": "python",
   "name": "python3"
  },
  "language_info": {
   "codemirror_mode": {
    "name": "ipython",
    "version": 3
   },
   "file_extension": ".py",
   "mimetype": "text/x-python",
   "name": "python",
   "nbconvert_exporter": "python",
   "pygments_lexer": "ipython3",
   "version": "3.12.1"
  }
 },
 "nbformat": 4,
 "nbformat_minor": 2
}
