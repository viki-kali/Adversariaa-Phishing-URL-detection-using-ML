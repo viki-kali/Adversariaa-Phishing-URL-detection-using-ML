{
 "cells": [
  {
   "cell_type": "code",
   "execution_count": 7,
   "metadata": {},
   "outputs": [
    {
     "name": "stdout",
     "output_type": "stream",
     "text": [
      "Element Levenshtein Distance occurs 6 times.\n",
      "Element Body tags in source occurs 4 times.\n",
      "Element Number of parameter occurs 3 times.\n",
      "Element Digit to alphabet ratio occurs 3 times.\n",
      "Element Entropy occurs 3 times.\n",
      "Element IP Address occurs 3 times.\n",
      "Element Host name length occurs 4 times.\n",
      "Element Percentage Character occurs 3 times.\n",
      "Element Special Characters occurs 3 times.\n",
      "Element Total links occurs 4 times.\n",
      "Element Word based distribution occurs 3 times.\n",
      "Element Is www present occurs 5 times.\n",
      "Element Question Mark occurs 3 times.\n",
      "Element Numeric Character occurs 5 times.\n",
      "Element At Character occurs 3 times.\n",
      "Element Frame tag present occurs 3 times.\n",
      "Element Domain to URL Ratio occurs 3 times.\n",
      "Element Is domain suspicious occurs 3 times.\n",
      "Element Label occurs 6 times.\n",
      "Element Google Search Feature occurs 4 times.\n",
      "Element Https in URL occurs 3 times.\n",
      "Element Is English word occurs 3 times.\n",
      "Element Dots occurs 3 times.\n",
      "Element ASN updation date occurs 5 times.\n",
      "Element mailto: present occurs 3 times.\n",
      "Element Dash occurs 3 times.\n"
     ]
    }
   ],
   "source": [
    "import pandas as pd\n",
    "from collections import Counter\n",
    "\n",
    "d1=pd.read_csv(r\"E:\\Project\\1-Output\\3 FEATURE SELECTION\\Dataset-1\\Common_Features_Dataset-1.csv\")\n",
    "d2=pd.read_csv(r\"E:\\Project\\1-Output\\3 FEATURE SELECTION\\Dataset-2\\Common_Features_Dataset-2.csv\")\n",
    "d3=pd.read_csv(r\"E:\\Project\\1-Output\\3 FEATURE SELECTION\\Dataset-3\\Common_Features_Dataset-3.csv\")\n",
    "d4=pd.read_csv(r\"E:\\Project\\1-Output\\3 FEATURE SELECTION\\Dataset-4\\Common_Features_Dataset-4.csv\")\n",
    "d5=pd.read_csv(r\"E:\\Project\\1-Output\\3 FEATURE SELECTION\\Dataset-5\\Common_Features_Dataset-5.csv\")\n",
    "d6=pd.read_csv(r\"E:\\Project\\1-Output\\3 FEATURE SELECTION\\Dataset-6\\Common_Features_Dataset-6.csv\")\n",
    "\n",
    "l1=list(d1.columns)\n",
    "l2=list(d2.columns)\n",
    "l3=list(d3.columns)\n",
    "l4=list(d4.columns)\n",
    "l5=list(d5.columns)\n",
    "l6=list(d6.columns)\n",
    "common_list=[]\n",
    "# Combine all lists into one\n",
    "all_lists = l1 + l2 + l3 + l4 + l5 + l6\n",
    "# Use Counter to count occurrences\n",
    "element_counts = Counter(all_lists)\n",
    "\n",
    "for element, count in element_counts.items():\n",
    "    if count>=3:\n",
    "       print(f\"Element {element} occurs {count} times.\")\n",
    "       common_list.append(element)\n"
   ]
  },
  {
   "cell_type": "markdown",
   "metadata": {},
   "source": [
    "Element Levenshtein Distance occurs 6 times.\n",
    "Element Body tags in source occurs 4 times.\n",
    "Element Number of parameter occurs 3 times.\n",
    "Element Digit to alphabet ratio occurs 3 times.\n",
    "Element Entropy occurs 3 times.\n",
    "Element IP Address occurs 3 times.\n",
    "Element Host name length occurs 4 times.\n",
    "Element Percentage Character occurs 3 times.\n",
    "Element Special Characters occurs 3 times.\n",
    "Element Total links occurs 4 times.\n",
    "Element Word based distribution occurs 3 times.\n",
    "Element Is www present occurs 5 times.\n",
    "Element Question Mark occurs 3 times.\n",
    "Element Numeric Character occurs 5 times.\n",
    "Element At Character occurs 3 times.\n",
    "Element Frame tag present occurs 3 times.\n",
    "Element Domain to URL Ratio occurs 3 times.\n",
    "Element Is domain suspicious occurs 3 times.\n",
    "Element Label occurs 6 times.\n",
    "Element Google Search Feature occurs 4 times.\n",
    "Element Https in URL occurs 3 times.\n",
    "Element Is English word occurs 3 times.\n",
    "Element Dots occurs 3 times.\n",
    "Element ASN updation date occurs 5 times.\n",
    "Element mailto: present occurs 3 times.\n",
    "Element Dash occurs 3 times.\n"
   ]
  },
  {
   "cell_type": "code",
   "execution_count": 8,
   "metadata": {},
   "outputs": [
    {
     "name": "stdout",
     "output_type": "stream",
     "text": [
      "['Levenshtein Distance', 'Body tags in source', 'Number of parameter', 'Digit to alphabet ratio', 'Entropy', 'IP Address', 'Host name length', 'Percentage Character', 'Special Characters', 'Total links', 'Word based distribution', 'Is www present', 'Question Mark', 'Numeric Character', 'At Character', 'Frame tag present', 'Domain to URL Ratio', 'Is domain suspicious', 'Label', 'Google Search Feature', 'Https in URL', 'Is English word', 'Dots', 'ASN updation date', 'mailto: present', 'Dash']\n"
     ]
    }
   ],
   "source": [
    "print(common_list)"
   ]
  },
  {
   "cell_type": "markdown",
   "metadata": {},
   "source": [
    "['Levenshtein Distance', 'Body tags in source', 'Number of parameter', 'Digit to alphabet ratio', 'Entropy', 'IP Address', 'Host name length', 'Percentage Character', 'Special Characters', 'Total links', 'Word based distribution', 'Is www present', 'Question Mark', 'Numeric Character', 'At Character', 'Frame tag present', 'Domain to URL Ratio', 'Is domain suspicious', 'Label', 'Google Search Feature', 'Https in URL', 'Is English word', 'Dots', 'ASN updation date', 'mailto: present', 'Dash']\n"
   ]
  }
 ],
 "metadata": {
  "kernelspec": {
   "display_name": "Python 3",
   "language": "python",
   "name": "python3"
  },
  "language_info": {
   "codemirror_mode": {
    "name": "ipython",
    "version": 3
   },
   "file_extension": ".py",
   "mimetype": "text/x-python",
   "name": "python",
   "nbconvert_exporter": "python",
   "pygments_lexer": "ipython3",
   "version": "3.12.1"
  }
 },
 "nbformat": 4,
 "nbformat_minor": 2
}
