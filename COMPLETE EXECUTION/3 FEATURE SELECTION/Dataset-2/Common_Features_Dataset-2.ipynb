{
 "cells": [
  {
   "cell_type": "markdown",
   "metadata": {},
   "source": [
    "IMPORTS"
   ]
  },
  {
   "cell_type": "code",
   "execution_count": 1,
   "metadata": {},
   "outputs": [],
   "source": [
    "import pandas as pd\n",
    "import statsmodels.api as sm\n",
    "from sklearn.feature_selection import SelectKBest\n",
    "from sklearn.feature_selection import chi2\n",
    "from sklearn.linear_model import Lasso\n",
    "from sklearn.preprocessing import StandardScaler\n",
    "from sklearn.linear_model import LassoCV"
   ]
  },
  {
   "cell_type": "markdown",
   "metadata": {},
   "source": [
    "DATASET ENCODING"
   ]
  },
  {
   "cell_type": "code",
   "execution_count": 2,
   "metadata": {},
   "outputs": [],
   "source": [
    "def encoding(value):\n",
    "    if value != '0':\n",
    "        return 1\n",
    "    else:\n",
    "        return 0"
   ]
  },
  {
   "cell_type": "code",
   "execution_count": 3,
   "metadata": {},
   "outputs": [
    {
     "name": "stderr",
     "output_type": "stream",
     "text": [
      "C:\\Users\\rohan\\AppData\\Local\\Temp\\ipykernel_24316\\1636876794.py:6: FutureWarning: DataFrame.applymap has been deprecated. Use DataFrame.map instead.\n",
      "  df = df.applymap(lambda x: 1 if x is True else (0 if x is False else x))\n"
     ]
    }
   ],
   "source": [
    "df=pd.read_csv(r'E:\\Project\\1-Output\\1 AFTER FEATURE EXTRACTION DATASETS\\Feature_Extracted_Dataset-2.csv')\n",
    "droplist= ['Sr. No.','Domain Name','Hyphenstring','Homoglyph','Vowel string','Bitsquatting','Insertion string','Omission','Repeatition','Replacement','Subdomain','Transposition','Addition string']\n",
    "df = df.drop(columns=droplist)\n",
    "\n",
    "#change boolean features into numeric features\n",
    "df = df.applymap(lambda x: 1 if x is True else (0 if x is False else x))\n",
    "\n",
    "#change string features into numeric features\n",
    "df['TLD'] = df['TLD'].apply(encoding)\n",
    "df['IP Address'] = df['IP Address'].apply(encoding)\n",
    "df['ASN Number'] = df['ASN Number'].apply(encoding)\n",
    "df['ASN Country Code'] = df['ASN Country Code'].apply(encoding)\n",
    "df['ASN CIDR'] = df['ASN CIDR'].apply(encoding)\n",
    "df['ASN Postal Code'] = df['ASN Postal Code'].apply(encoding)\n",
    "df['ASN creation date'] = df['ASN creation date'].apply(encoding)\n",
    "df['ASN updation date'] = df['ASN updation date'].apply(encoding)\n",
    "X = df.loc[:,df.columns!=\"Label\"]\n",
    "y = df[\"Label\"]"
   ]
  },
  {
   "cell_type": "markdown",
   "metadata": {},
   "source": [
    "FORWARD SELECTION"
   ]
  },
  {
   "cell_type": "code",
   "execution_count": 4,
   "metadata": {},
   "outputs": [],
   "source": [
    "def forward_selection(X, y, criterion='adj_r_squared'):\n",
    "    selected_features = []\n",
    "    remaining_features = list(X.columns)\n",
    "    current_score, best_new_score = 0.0, 0.0\n",
    "\n",
    "    while remaining_features and current_score == best_new_score:\n",
    "        scores_with_candidates = []\n",
    "\n",
    "        for feature in remaining_features:\n",
    "            model = sm.OLS(y, sm.add_constant(X[selected_features + [feature]])).fit()\n",
    "\n",
    "            if criterion == 'adj_r_squared':\n",
    "                score = model.rsquared_adj\n",
    "            else:\n",
    "                # Add other criteria as needed\n",
    "                raise ValueError(\"Unsupported criterion\")\n",
    "\n",
    "            scores_with_candidates.append((score, feature))\n",
    "\n",
    "        scores_with_candidates.sort(reverse=True)\n",
    "        best_new_score, best_candidate = scores_with_candidates.pop(0)\n",
    "\n",
    "        if current_score < best_new_score:\n",
    "            remaining_features.remove(best_candidate)\n",
    "            selected_features.append(best_candidate)\n",
    "            current_score = best_new_score\n",
    "\n",
    "    return selected_features"
   ]
  },
  {
   "cell_type": "code",
   "execution_count": 5,
   "metadata": {},
   "outputs": [],
   "source": [
    "# Run forward selection\n",
    "selected_features1 = forward_selection(X, y)"
   ]
  },
  {
   "cell_type": "markdown",
   "metadata": {},
   "source": [
    "CHI-SQUARE"
   ]
  },
  {
   "cell_type": "code",
   "execution_count": 6,
   "metadata": {},
   "outputs": [],
   "source": [
    "# Select top k features based on chi-square scores\n",
    "k_best_features = 50 \n",
    "\n",
    "chi2_selector = SelectKBest(chi2, k=k_best_features)\n",
    "X_chi2_selected = chi2_selector.fit_transform(X, y)\n",
    "\n",
    "# Get the selected features\n",
    "selected_features2 = X.columns[chi2_selector.get_support()]\n"
   ]
  },
  {
   "cell_type": "markdown",
   "metadata": {},
   "source": [
    "LASSO"
   ]
  },
  {
   "cell_type": "code",
   "execution_count": 7,
   "metadata": {},
   "outputs": [
    {
     "name": "stdout",
     "output_type": "stream",
     "text": [
      "Common Features:\n",
      "['Body tags in source', 'TLD in path', 'Numeric Character', 'Percentage Character', 'Google Search Feature', 'IP Address', 'Https in URL', 'Entropy', 'Number of parameter', 'Is English word', 'Dots', 'Levenshtein Distance', 'ASN updation date', 'Host name length', 'Total links', 'Digit to alphabet ratio', 'Is www present']\n",
      "17\n"
     ]
    }
   ],
   "source": [
    "# Standardize the features\n",
    "scaler = StandardScaler()\n",
    "X_standardized = scaler.fit_transform(X)\n",
    "\n",
    "# Apply LASSO regression for feature selection\n",
    "lasso = LassoCV(alphas=None, cv=5)\n",
    "lasso.fit(X_standardized, y)\n",
    "\n",
    "# Get selected features\n",
    "selected_features3 = X.columns[lasso.coef_ != 0]\n",
    "\n",
    "common = list(set(selected_features1) & set(selected_features2) & set(selected_features3))\n",
    "\n",
    "# Print the selected features\n",
    "print(\"Common Features:\")\n",
    "print(common)\n",
    "\n",
    "selected_df = df.loc[:, common]\n",
    "selected_df['Label']=y\n",
    "selected_df.to_csv(\"Common_Features_Dataset-2.csv\",index=False)\n",
    "\n",
    "print(len(common))"
   ]
  }
 ],
 "metadata": {
  "kernelspec": {
   "display_name": "base",
   "language": "python",
   "name": "python3"
  },
  "language_info": {
   "codemirror_mode": {
    "name": "ipython",
    "version": 3
   },
   "file_extension": ".py",
   "mimetype": "text/x-python",
   "name": "python",
   "nbconvert_exporter": "python",
   "pygments_lexer": "ipython3",
   "version": "3.12.1"
  }
 },
 "nbformat": 4,
 "nbformat_minor": 2
}
